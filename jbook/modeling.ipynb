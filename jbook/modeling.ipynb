{
 "cells": [
  {
   "cell_type": "markdown",
   "id": "8bac3daa-f9b8-4e46-9533-3e13558098fd",
   "metadata": {},
   "source": [
    "# Modeling"
   ]
  },
  {
   "cell_type": "code",
   "execution_count": 1,
   "id": "21bfabe3-17c9-4855-8243-9684a7c52bf3",
   "metadata": {},
   "outputs": [],
   "source": [
    "import os\n",
    "import numpy as np\n",
    "import pandas as pd\n",
    "import matplotlib.pyplot as plt\n",
    "from sklearn.decomposition import TruncatedSVD\n",
    "from sklearn.model_selection import train_test_split\n",
    "import seaborn as sns\n",
    "import surprise\n",
    "from surprise import SVD, Dataset, Reader, accuracy\n",
    "from surprise.model_selection import cross_validate\n",
    "pd.set_option('display.max_columns', 500)\n",
    "pd.set_option('display.width', 2000)"
   ]
  },
  {
   "cell_type": "code",
   "execution_count": 2,
   "id": "c92c50f0-82ea-4628-9c19-e7b8b8fa212f",
   "metadata": {},
   "outputs": [],
   "source": [
    "# data\n",
    "\n",
    "cols = [\"user_id\", \"movie_id\", \"rating\", \"timestamp\"]\n",
    "ratings = pd.read_csv(\n",
    "    os.path.join(\"../data\", \"ml-100k\", \"u.data\"),\n",
    "    sep=\"\\t\",\n",
    "    names=cols,\n",
    "    encoding=\"latin-1\",\n",
    ")\n",
    "\n",
    "ratings\n",
    "ratings = ratings.drop(columns=[\"timestamp\"])\n",
    "ratings.head()\n",
    "\n",
    "# Movies data\n",
    "\n",
    "cols = [\n",
    "    \"movie_id\",\n",
    "    \"movie_title\",\n",
    "    \"release_date\",\n",
    "    \"video_release_date\",\n",
    "    \"IMDb_URL\",\n",
    "    \"unknown\",\n",
    "    \"Action\",\n",
    "    \"Adventure\",\n",
    "    \"Animation\",\n",
    "    \"Children\",\n",
    "    \"Comedy\",\n",
    "    \"Crime\",\n",
    "    \"Documentary\",\n",
    "    \"Drama\",\n",
    "    \"Fantasy\",\n",
    "    \"Film-Noir\",\n",
    "    \"Horror\",\n",
    "    \"Musical\",\n",
    "    \"Mystery\",\n",
    "    \"Romance\",\n",
    "    \"Sci-Fi\",\n",
    "    \"Thriller\",\n",
    "    \"War\",\n",
    "    \"Western\",\n",
    "]\n",
    "\n",
    "movies_data = pd.read_csv(\n",
    "    os.path.join(\"../data\", \"ml-100k\", \"u.item\"),\n",
    "    sep=\"|\",\n",
    "    names=cols,\n",
    "    encoding=\"latin-1\",\n",
    ")\n",
    "\n",
    "\n",
    "movie_titles = movies_data[['movie_id', 'movie_title']]\n",
    "# Description of the data\n",
    "\n",
    "user_key = \"user_id\"\n",
    "item_key = \"movie_id\"\n",
    "\n",
    "N = len(np.unique(ratings[user_key]))\n",
    "M = len(np.unique(ratings[item_key]))"
   ]
  },
  {
   "cell_type": "code",
   "execution_count": 3,
   "id": "4943581c-84b8-4516-9ae3-44966349a0e4",
   "metadata": {},
   "outputs": [],
   "source": [
    "X = ratings.copy()\n",
    "y = ratings[\"user_id\"]\n",
    "X_train, X_valid, y_train, y_valid = train_test_split(\n",
    "    X, y, test_size=0.2, random_state=42\n",
    ")\n",
    "\n",
    "## Mapper to train Map ratings\n",
    "\n",
    "user_mapper = dict(zip(np.unique(ratings[user_key]), list(range(N))))\n",
    "item_mapper = dict(zip(np.unique(ratings[item_key]), list(range(M))))\n",
    "user_inverse_mapper = dict(zip(list(range(N)), np.unique(ratings[user_key])))\n",
    "item_inverse_mapper = dict(zip(list(range(M)), np.unique(ratings[item_key])))\n",
    "\n",
    "\n",
    "train_mat = None\n",
    "valid_mat = None"
   ]
  },
  {
   "cell_type": "code",
   "execution_count": 4,
   "id": "7c7683db-21b9-4bc4-aed9-011b7bd649d1",
   "metadata": {},
   "outputs": [],
   "source": [
    "def create_Y_from_ratings(data, N, M):\n",
    "    '''\n",
    "    Create ranking matrix\n",
    "\n",
    "    '''\n",
    "    Y = np.zeros((N, M))\n",
    "    Y.fill(np.nan)\n",
    "    for index, val in data.iterrows():\n",
    "        n = user_mapper[val[user_key]]\n",
    "        m = item_mapper[val[item_key]]\n",
    "        Y[n, m] = val[\"rating\"]\n",
    "\n",
    "    return Y"
   ]
  },
  {
   "cell_type": "code",
   "execution_count": 5,
   "id": "9ab8b1c7-23c0-4821-b792-b3d0195537d4",
   "metadata": {},
   "outputs": [
    {
     "name": "stdout",
     "output_type": "stream",
     "text": [
      "train_mat shape:  (943, 1682)\n",
      "valid_mat shape:  (943, 1682)\n"
     ]
    }
   ],
   "source": [
    "train_mat = create_Y_from_ratings(X_train, N, M)\n",
    "valid_mat = create_Y_from_ratings(X_valid, N, M)\n",
    "\n",
    "print(\"train_mat shape: \", train_mat.shape)\n",
    "print(\"valid_mat shape: \", valid_mat.shape)"
   ]
  },
  {
   "cell_type": "code",
   "execution_count": 6,
   "id": "8687326d-5e53-4caf-95db-e57d95e2112e",
   "metadata": {},
   "outputs": [
    {
     "data": {
      "text/plain": [
       "array([[nan,  3.,  4., ..., nan, nan, nan],\n",
       "       [ 4., nan, nan, ..., nan, nan, nan],\n",
       "       [nan, nan, nan, ..., nan, nan, nan],\n",
       "       ...,\n",
       "       [ 5., nan, nan, ..., nan, nan, nan],\n",
       "       [nan, nan, nan, ..., nan, nan, nan],\n",
       "       [nan,  5., nan, ..., nan, nan, nan]])"
      ]
     },
     "execution_count": 6,
     "metadata": {},
     "output_type": "execute_result"
    }
   ],
   "source": [
    "train_mat"
   ]
  },
  {
   "cell_type": "code",
   "execution_count": 7,
   "id": "a56ad080-7e66-4114-b657-66968c151b40",
   "metadata": {},
   "outputs": [
    {
     "name": "stdout",
     "output_type": "stream",
     "text": [
      "Number of non-nan elements in train_mat:  0.05043735491379626\n",
      "Number of non-nan elements in valid_mat:  20000\n"
     ]
    }
   ],
   "source": [
    "print(\"Number of non-nan elements in train_mat: \", np.sum(~np.isnan(train_mat))/(943*1682))\n",
    "print(\"Number of non-nan elements in valid_mat: \", np.sum(~np.isnan(valid_mat)))"
   ]
  },
  {
   "cell_type": "code",
   "execution_count": 8,
   "id": "46800c3f-2928-4dd5-b449-4c0a0c4a6b61",
   "metadata": {},
   "outputs": [],
   "source": [
    "def error(Y1, Y2):\n",
    "    \"\"\"\n",
    "    Returns the root mean squared error (RMSE).\n",
    "    \"\"\"\n",
    "    return np.sqrt(np.nanmean((Y1 - Y2) ** 2))\n",
    "\n",
    "\n",
    "def evaluate(pred_Y, train_mat, valid_mat, model_name=\"Global average\"):\n",
    "    print(\"%s train RMSE: %0.2f\" % (model_name, error(pred_Y, train_mat)))\n",
    "    print(\"%s valid RMSE: %0.2f\" % (model_name, error(pred_Y, valid_mat)))"
   ]
  },
  {
   "cell_type": "code",
   "execution_count": 9,
   "id": "9fb2cf68-a9fe-47a1-81bf-e10cc6791744",
   "metadata": {},
   "outputs": [
    {
     "name": "stdout",
     "output_type": "stream",
     "text": [
      "Global average train RMSE: 1.13\n",
      "Global average valid RMSE: 1.12\n"
     ]
    }
   ],
   "source": [
    "#Base line model\n",
    "\n",
    "avg = np.nanmean(train_mat)\n",
    "pred_g = np.zeros(train_mat.shape) + avg\n",
    "evaluate(pred_g, train_mat, valid_mat, model_name=\"Global average\")"
   ]
  },
  {
   "cell_type": "code",
   "execution_count": 10,
   "id": "134ab0a1-dc28-4936-85df-2776b82aeb6f",
   "metadata": {},
   "outputs": [],
   "source": [
    "results = {'Components' : [],\n",
    "          'RMSE': []}"
   ]
  },
  {
   "cell_type": "markdown",
   "id": "8c98ef4e-83c2-4ed7-bb09-725ed27d8e3c",
   "metadata": {},
   "source": [
    "### Hyperparameter optimization"
   ]
  },
  {
   "cell_type": "code",
   "execution_count": 11,
   "id": "8d0db968-7f60-4c80-b5b3-a42dc662874b",
   "metadata": {},
   "outputs": [
    {
     "name": "stdout",
     "output_type": "stream",
     "text": [
      "Surprise SVD 5 components Mean RMSE 0.938\n",
      "Surprise SVD 10 components Mean RMSE 0.938\n",
      "Surprise SVD 15 components Mean RMSE 0.936\n",
      "Surprise SVD 20 components Mean RMSE 0.935\n",
      "Surprise SVD 25 components Mean RMSE 0.937\n"
     ]
    }
   ],
   "source": [
    "# Matrix Factorization and regularization\n",
    "\n",
    "reader = Reader()\n",
    "data = Dataset.load_from_df(ratings, reader)\n",
    "\n",
    "results = {'Components' : [],\n",
    "          'Mean RMSE': []}\n",
    "\n",
    "for n in range(5 , 30, 5):\n",
    "    model_svd = SVD(n_factors=n, random_state=42)\n",
    "    mean_rmse = round(pd.DataFrame(cross_validate(model_svd, data, measures=['RMSE'], cv=5, verbose=False))['test_rmse'].mean(),3)\n",
    "    results['Components'].append(n)\n",
    "    results['Mean RMSE'].append(mean_rmse)\n",
    "    print(f\"Surprise SVD {n} components Mean RMSE {mean_rmse}\")"
   ]
  },
  {
   "cell_type": "code",
   "execution_count": 12,
   "id": "e8ec50d8-965a-4fd7-8971-6c164dcc4058",
   "metadata": {},
   "outputs": [
    {
     "data": {
      "image/png": "[encoded data removed]",
      "text/plain": [
       "<Figure size 864x432 with 1 Axes>"
      ]
     },
     "metadata": {
      "needs_background": "light"
     },
     "output_type": "display_data"
    }
   ],
   "source": [
    "results_df = pd.DataFrame(results)\n",
    "\n",
    "plt.figure(figsize=(12,6))\n",
    "plt.plot(results_df['Components'], results_df['Mean RMSE'])\n",
    "plt.title('Mean RMSE by component parameter', fontsize=18)\n",
    "plt.xlabel('Number of components', fontsize=15)\n",
    "plt.ylabel('Mean RMSE', fontsize=15)\n",
    "plt.show()"
   ]
  },
  {
   "cell_type": "code",
   "execution_count": 17,
   "id": "ce6d90e9-4a9c-435e-a8ea-329299b00091",
   "metadata": {},
   "outputs": [
    {
     "name": "stdout",
     "output_type": "stream",
     "text": [
      "RMSE score for k=20 factors: 0.93\n"
     ]
    }
   ],
   "source": [
    "trainset, validset = surprise.model_selection.train_test_split(\n",
    "    data, test_size=0.2, random_state=42\n",
    ")\n",
    "\n",
    "k = 20\n",
    "algo = SVD(n_factors=k, random_state=42)\n",
    "algo.fit(trainset)\n",
    "svd_preds = algo.test(validset)\n",
    "print(f\"RMSE score for k={k} factors: {accuracy.rmse(svd_preds, verbose=False):.2f}\")"
   ]
  },
  {
   "cell_type": "markdown",
   "id": "a991d5ff-a7f4-42dc-93e3-73528062fe61",
   "metadata": {},
   "source": [
    "### Recommendation Outputs"
   ]
  },
  {
   "cell_type": "code",
   "execution_count": 18,
   "id": "29cada62-0ccf-419e-b9f2-d5e172d66d02",
   "metadata": {},
   "outputs": [],
   "source": [
    "# Code inspired by Nicolas Hug recommedation systems\n",
    "\n",
    "from collections import defaultdict\n",
    "\n",
    "\n",
    "def top_n_recs(user_id, n=5):\n",
    "    '''\n",
    "    Function that returns the top n transaction for each user_id \n",
    "    '''\n",
    "    top_n = get_top_n(svd_preds, n=n)\n",
    "    data_temp =pd.DataFrame(top_n[user_id], columns=[\"movie_id\", \"pred\"])\n",
    "    return pd.merge(data_temp, movie_titles, right_on='movie_id', left_on='movie_id', how='left')[['movie_title', 'pred']]\n",
    "\n",
    "\n",
    "def get_top_n(predictions, n=10):\n",
    "    \"\"\"\n",
    "    Return the top-N recommendation for each user from a set of predictions of the SVD model\n",
    "\n",
    "    \"\"\"\n",
    "    # First map the predictions to each user.\n",
    "    top_n = defaultdict(list)\n",
    "    for uid, iid, true_r, est, _ in predictions:\n",
    "        top_n[uid].append((iid, est))\n",
    "\n",
    "    # Then sort the predictions for each user and retrieve the k highest ones.\n",
    "    for uid, user_ratings in top_n.items():\n",
    "        user_ratings.sort(key=lambda x: x[1], reverse=True)\n",
    "        top_n[uid] = user_ratings[:n]\n",
    "\n",
    "    return top_n"
   ]
  },
  {
   "cell_type": "code",
   "execution_count": 19,
   "id": "54e74a1a-9b8f-450a-8514-14b11d407646",
   "metadata": {},
   "outputs": [
    {
     "data": {
      "text/plain": [
       "[774, 398, 87]"
      ]
     },
     "execution_count": 19,
     "metadata": {},
     "output_type": "execute_result"
    }
   ],
   "source": [
    "size = 3\n",
    "u_id_sample = ratings[\"user_id\"].sample(size).to_list()\n",
    "u_id_sample"
   ]
  },
  {
   "cell_type": "code",
   "execution_count": 20,
   "id": "cb45df3b-32c4-4df0-803d-2a652ebaecb1",
   "metadata": {},
   "outputs": [
    {
     "name": "stdout",
     "output_type": "stream",
     "text": [
      "\n",
      "Top 5 recommendations for user with id : 774\n",
      "                        movie_title  pred\n",
      "0               12 Angry Men (1957)  3.30\n",
      "1  Shawshank Redemption, The (1994)  2.87\n",
      "2      2001: A Space Odyssey (1968)  2.78\n",
      "3                 Braveheart (1995)  2.77\n",
      "4                     Psycho (1960)  2.75\n",
      "\n",
      "Top 5 recommendations for user with id : 398\n",
      "                      movie_title  pred\n",
      "0              Rear Window (1954)  4.25\n",
      "1             Citizen Kane (1941)  4.24\n",
      "2      Princess Bride, The (1987)  4.23\n",
      "3                Star Wars (1977)  4.19\n",
      "4  Raiders of the Lost Ark (1981)  4.18\n",
      "\n",
      "Top 5 recommendations for user with id : 87\n",
      "                        movie_title  pred\n",
      "0  Shawshank Redemption, The (1994)  4.88\n",
      "1           Schindler's List (1993)  4.83\n",
      "2                      Glory (1989)  4.59\n",
      "3         Return of the Jedi (1983)  4.57\n",
      "4          Strictly Ballroom (1992)  4.53\n"
     ]
    }
   ],
   "source": [
    "n = 5\n",
    "for user_id in u_id_sample:\n",
    "    print(\"\\nTop %d recommendations for user with id : %d\" % (n, user_id))\n",
    "    df = top_n_recs(user_id, n=n)\n",
    "    df['pred'] = df['pred'].round(decimals = 2)\n",
    "    print(df)"
   ]
  }
 ],
 "metadata": {
  "kernelspec": {
   "display_name": "Python 3 (ipykernel)",
   "language": "python",
   "name": "python3"
  },
  "language_info": {
   "codemirror_mode": {
    "name": "ipython",
    "version": 3
   },
   "file_extension": ".py",
   "mimetype": "text/x-python",
   "name": "python",
   "nbconvert_exporter": "python",
   "pygments_lexer": "ipython3",
   "version": "3.9.7"
  }
 },
 "nbformat": 4,
 "nbformat_minor": 5
}
